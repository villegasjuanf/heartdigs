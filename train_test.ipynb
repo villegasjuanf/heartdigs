{
    "nbformat_minor": 1, 
    "cells": [
        {
            "source": "import os\nprint([i for i in os.listdir() if 'dataset.json' in i])\nprint([i for i in os.listdir() if 'set_a.csv' in i])", 
            "cell_type": "code", 
            "metadata": {}, 
            "outputs": [
                {
                    "output_type": "stream", 
                    "name": "stdout", 
                    "text": "['dataset.json']\n['set_a.csv']\n"
                }
            ], 
            "execution_count": 1
        }, 
        {
            "source": "import json\nimport numpy as np\ndef DataDeserialize(jsonObj,asNumpy=False):\n    toDict=json.loads(jsonObj)\n    data_f=json.loads(toDict['data_f'])\n    data_t=json.loads(toDict['data_t'])\n    fs=json.loads(toDict['fs'])\n    for key in data_f.keys():\n        if asNumpy:\n            data_f[key]=np.array(data_f[key]).reshape([len(data_f[key]),1])\n            data_t[key]=np.array(data_t[key])\n        else:\n            data_f[key]=data_f[key]\n            data_t[key]=data_t[key]\n            fs[key]=[fs[key]]\n    \n    return data_f,data_t,fs\n\nwith open('dataset.json','r') as f:\n    dataset=f.read()\ndata_dft,data_dec,fs=DataDeserialize(dataset)", 
            "cell_type": "code", 
            "metadata": {}, 
            "outputs": [], 
            "execution_count": 2
        }, 
        {
            "source": "import pandas as pd\n\ndata_labels=pd.read_csv('set_a.csv')\ndata_labels=data_labels[data_labels.label.notnull()]\ndata_labels['filename']=data_labels.fname.apply(lambda x: x[6:len(x)])\nlabels=data_labels.label.drop_duplicates()\ndata_labels=data_labels[['filename','label']]\ndata_labels.index=data_labels.filename\n\ndf_pd = pd.DataFrame(data_dft)\nk = len(df_pd)//2\n\n#spectra split to a halfe of fs - nyquist freq. nyquist  and PSD calculation\ndf_pd=df_pd.iloc[0:k,:].applymap(lambda x: np.log(x**2))\n\n#curve normalization\nfor col in df_pd.columns:\n    df_pd.loc[:,col]=df_pd.loc[:,col]/max(df_pd.loc[:,col])\n    \ndf_fs = pd.DataFrame(fs,index=['fs']).transpose()\ndf_fs['fs'] = df_fs.fs/2\ndf_fs['k'] = k\n\ndf_pd=df_pd.transpose().join(data_labels).join(df_fs)\ndf_pd.head()", 
            "cell_type": "code", 
            "metadata": {}, 
            "outputs": [
                {
                    "output_type": "execute_result", 
                    "data": {
                        "text/plain": "                                   0         1         2         3         4  \\\nextrahls__201101070953.wav  0.716302  0.740627  0.599815  0.664514  0.786073   \nextrahls__201101091153.wav  0.739262  0.617246  0.803137  0.462727  0.489625   \nextrahls__201101152255.wav  0.913559  0.779044  0.818879  0.500293  0.702190   \nextrahls__201101160804.wav  0.695254  0.564887  0.662952  0.761360  0.728754   \nextrahls__201101160808.wav  0.822854  0.702048  0.398874  0.642867  0.578157   \n\n                                   5         6         7         8         9  \\\nextrahls__201101070953.wav  0.553410  0.719064  0.703307  0.607023  0.754069   \nextrahls__201101091153.wav  0.699909  0.725328  0.673239  0.572426  0.744569   \nextrahls__201101152255.wav  0.744516  0.643676  0.867989  0.750828  0.856806   \nextrahls__201101160804.wav  0.759764  0.736816  0.707393  0.781271  0.731554   \nextrahls__201101160808.wav  0.544518  0.740318  0.649023  0.726241  0.641135   \n\n                            ...       1994      1995      1996      1997  \\\nextrahls__201101070953.wav  ...   0.631046  0.338797  0.639984  0.530173   \nextrahls__201101091153.wav  ...   0.664340  0.480305  0.640480  0.608836   \nextrahls__201101152255.wav  ...   0.602872  0.318743  0.666170  0.741681   \nextrahls__201101160804.wav  ...   0.597531  0.661305  0.667166  0.641461   \nextrahls__201101160808.wav  ...   0.572833  0.666673  0.691166  0.456296   \n\n                                1998      1999                    filename  \\\nextrahls__201101070953.wav  0.377894  0.593133  extrahls__201101070953.wav   \nextrahls__201101091153.wav  0.620766  0.611966  extrahls__201101091153.wav   \nextrahls__201101152255.wav  0.656872  0.615473  extrahls__201101152255.wav   \nextrahls__201101160804.wav  0.588037  0.717878  extrahls__201101160804.wav   \nextrahls__201101160808.wav  0.648299  0.541012  extrahls__201101160808.wav   \n\n                               label     fs     k  \nextrahls__201101070953.wav  extrahls  367.5  2000  \nextrahls__201101091153.wav  extrahls  367.5  2000  \nextrahls__201101152255.wav  extrahls  367.5  2000  \nextrahls__201101160804.wav  extrahls  367.5  2000  \nextrahls__201101160808.wav  extrahls  367.5  2000  \n\n[5 rows x 2004 columns]", 
                        "text/html": "<div>\n<style scoped>\n    .dataframe tbody tr th:only-of-type {\n        vertical-align: middle;\n    }\n\n    .dataframe tbody tr th {\n        vertical-align: top;\n    }\n\n    .dataframe thead th {\n        text-align: right;\n    }\n</style>\n<table border=\"1\" class=\"dataframe\">\n  <thead>\n    <tr style=\"text-align: right;\">\n      <th></th>\n      <th>0</th>\n      <th>1</th>\n      <th>2</th>\n      <th>3</th>\n      <th>4</th>\n      <th>5</th>\n      <th>6</th>\n      <th>7</th>\n      <th>8</th>\n      <th>9</th>\n      <th>...</th>\n      <th>1994</th>\n      <th>1995</th>\n      <th>1996</th>\n      <th>1997</th>\n      <th>1998</th>\n      <th>1999</th>\n      <th>filename</th>\n      <th>label</th>\n      <th>fs</th>\n      <th>k</th>\n    </tr>\n  </thead>\n  <tbody>\n    <tr>\n      <th>extrahls__201101070953.wav</th>\n      <td>0.716302</td>\n      <td>0.740627</td>\n      <td>0.599815</td>\n      <td>0.664514</td>\n      <td>0.786073</td>\n      <td>0.553410</td>\n      <td>0.719064</td>\n      <td>0.703307</td>\n      <td>0.607023</td>\n      <td>0.754069</td>\n      <td>...</td>\n      <td>0.631046</td>\n      <td>0.338797</td>\n      <td>0.639984</td>\n      <td>0.530173</td>\n      <td>0.377894</td>\n      <td>0.593133</td>\n      <td>extrahls__201101070953.wav</td>\n      <td>extrahls</td>\n      <td>367.5</td>\n      <td>2000</td>\n    </tr>\n    <tr>\n      <th>extrahls__201101091153.wav</th>\n      <td>0.739262</td>\n      <td>0.617246</td>\n      <td>0.803137</td>\n      <td>0.462727</td>\n      <td>0.489625</td>\n      <td>0.699909</td>\n      <td>0.725328</td>\n      <td>0.673239</td>\n      <td>0.572426</td>\n      <td>0.744569</td>\n      <td>...</td>\n      <td>0.664340</td>\n      <td>0.480305</td>\n      <td>0.640480</td>\n      <td>0.608836</td>\n      <td>0.620766</td>\n      <td>0.611966</td>\n      <td>extrahls__201101091153.wav</td>\n      <td>extrahls</td>\n      <td>367.5</td>\n      <td>2000</td>\n    </tr>\n    <tr>\n      <th>extrahls__201101152255.wav</th>\n      <td>0.913559</td>\n      <td>0.779044</td>\n      <td>0.818879</td>\n      <td>0.500293</td>\n      <td>0.702190</td>\n      <td>0.744516</td>\n      <td>0.643676</td>\n      <td>0.867989</td>\n      <td>0.750828</td>\n      <td>0.856806</td>\n      <td>...</td>\n      <td>0.602872</td>\n      <td>0.318743</td>\n      <td>0.666170</td>\n      <td>0.741681</td>\n      <td>0.656872</td>\n      <td>0.615473</td>\n      <td>extrahls__201101152255.wav</td>\n      <td>extrahls</td>\n      <td>367.5</td>\n      <td>2000</td>\n    </tr>\n    <tr>\n      <th>extrahls__201101160804.wav</th>\n      <td>0.695254</td>\n      <td>0.564887</td>\n      <td>0.662952</td>\n      <td>0.761360</td>\n      <td>0.728754</td>\n      <td>0.759764</td>\n      <td>0.736816</td>\n      <td>0.707393</td>\n      <td>0.781271</td>\n      <td>0.731554</td>\n      <td>...</td>\n      <td>0.597531</td>\n      <td>0.661305</td>\n      <td>0.667166</td>\n      <td>0.641461</td>\n      <td>0.588037</td>\n      <td>0.717878</td>\n      <td>extrahls__201101160804.wav</td>\n      <td>extrahls</td>\n      <td>367.5</td>\n      <td>2000</td>\n    </tr>\n    <tr>\n      <th>extrahls__201101160808.wav</th>\n      <td>0.822854</td>\n      <td>0.702048</td>\n      <td>0.398874</td>\n      <td>0.642867</td>\n      <td>0.578157</td>\n      <td>0.544518</td>\n      <td>0.740318</td>\n      <td>0.649023</td>\n      <td>0.726241</td>\n      <td>0.641135</td>\n      <td>...</td>\n      <td>0.572833</td>\n      <td>0.666673</td>\n      <td>0.691166</td>\n      <td>0.456296</td>\n      <td>0.648299</td>\n      <td>0.541012</td>\n      <td>extrahls__201101160808.wav</td>\n      <td>extrahls</td>\n      <td>367.5</td>\n      <td>2000</td>\n    </tr>\n  </tbody>\n</table>\n<p>5 rows \u00d7 2004 columns</p>\n</div>"
                    }, 
                    "execution_count": 12, 
                    "metadata": {}
                }
            ], 
            "execution_count": 12
        }, 
        {
            "source": "spark=SparkSession.builder.getOrCreate()\ndf=spark.createDataFrame(df_pd)", 
            "cell_type": "code", 
            "metadata": {}, 
            "outputs": [], 
            "execution_count": 13
        }, 
        {
            "source": "from pyspark.sql.functions import grouping,count\ndf.cube('label').agg(count('label')).show()\ndf.toPandas().describe()", 
            "cell_type": "code", 
            "metadata": {
                "scrolled": false
            }, 
            "outputs": [
                {
                    "output_type": "stream", 
                    "name": "stdout", 
                    "text": "+--------+------------+\n|   label|count(label)|\n+--------+------------+\n|extrahls|          19|\n|    null|          84|\n|  normal|          31|\n|  murmur|          34|\n+--------+------------+\n\n"
                }, 
                {
                    "output_type": "execute_result", 
                    "data": {
                        "text/plain": "               0          1          2          3          4          5  \\\ncount  84.000000  84.000000  84.000000  84.000000  84.000000  84.000000   \nmean    0.705105   0.646034   0.643607   0.637286   0.644987   0.639547   \nstd     0.100153   0.080704   0.096546   0.089848   0.083670   0.118966   \nmin     0.297124   0.360112   0.335903   0.263745   0.274716  -0.085987   \n25%     0.643972   0.610361   0.600994   0.602844   0.602669   0.594344   \n50%     0.715718   0.655800   0.660470   0.646042   0.657632   0.657441   \n75%     0.775847   0.699881   0.712271   0.701502   0.702195   0.716171   \nmax     0.913559   0.779044   0.818879   0.779574   0.790871   0.791680   \n\n               6          7          8          9   ...         1992  \\\ncount  84.000000  84.000000  84.000000  84.000000   ...    84.000000   \nmean    0.627597   0.656853   0.655537   0.637170   ...     0.526919   \nstd     0.105078   0.087821   0.077099   0.134674   ...     0.119527   \nmin     0.273435   0.411791   0.393980  -0.308040   ...     0.083485   \n25%     0.562949   0.625029   0.608220   0.608952   ...     0.451278   \n50%     0.645353   0.659293   0.659730   0.641274   ...     0.542268   \n75%     0.714607   0.707488   0.701898   0.707338   ...     0.606704   \nmax     0.801636   0.867989   0.830562   0.856806   ...     0.730488   \n\n            1993       1994       1995       1996       1997       1998  \\\ncount  84.000000  84.000000  84.000000  84.000000  84.000000  84.000000   \nmean    0.554309   0.553485   0.532720   0.562463   0.555915   0.558160   \nstd     0.127651   0.120348   0.133105   0.127846   0.133496   0.124976   \nmin     0.251371   0.276954   0.186994   0.315512   0.233568   0.206821   \n25%     0.469185   0.461060   0.438413   0.484961   0.480114   0.475005   \n50%     0.548169   0.547114   0.525675   0.571061   0.564062   0.562868   \n75%     0.656740   0.630929   0.624763   0.654824   0.649921   0.651132   \nmax     0.849596   0.818759   0.832410   0.870558   0.853293   0.880259   \n\n            1999     fs       k  \ncount  84.000000   84.0    84.0  \nmean    0.552841  367.5  2000.0  \nstd     0.137573    0.0     0.0  \nmin     0.133297  367.5  2000.0  \n25%     0.476908  367.5  2000.0  \n50%     0.556994  367.5  2000.0  \n75%     0.648295  367.5  2000.0  \nmax     0.880190  367.5  2000.0  \n\n[8 rows x 2002 columns]", 
                        "text/html": "<div>\n<style scoped>\n    .dataframe tbody tr th:only-of-type {\n        vertical-align: middle;\n    }\n\n    .dataframe tbody tr th {\n        vertical-align: top;\n    }\n\n    .dataframe thead th {\n        text-align: right;\n    }\n</style>\n<table border=\"1\" class=\"dataframe\">\n  <thead>\n    <tr style=\"text-align: right;\">\n      <th></th>\n      <th>0</th>\n      <th>1</th>\n      <th>2</th>\n      <th>3</th>\n      <th>4</th>\n      <th>5</th>\n      <th>6</th>\n      <th>7</th>\n      <th>8</th>\n      <th>9</th>\n      <th>...</th>\n      <th>1992</th>\n      <th>1993</th>\n      <th>1994</th>\n      <th>1995</th>\n      <th>1996</th>\n      <th>1997</th>\n      <th>1998</th>\n      <th>1999</th>\n      <th>fs</th>\n      <th>k</th>\n    </tr>\n  </thead>\n  <tbody>\n    <tr>\n      <th>count</th>\n      <td>84.000000</td>\n      <td>84.000000</td>\n      <td>84.000000</td>\n      <td>84.000000</td>\n      <td>84.000000</td>\n      <td>84.000000</td>\n      <td>84.000000</td>\n      <td>84.000000</td>\n      <td>84.000000</td>\n      <td>84.000000</td>\n      <td>...</td>\n      <td>84.000000</td>\n      <td>84.000000</td>\n      <td>84.000000</td>\n      <td>84.000000</td>\n      <td>84.000000</td>\n      <td>84.000000</td>\n      <td>84.000000</td>\n      <td>84.000000</td>\n      <td>84.0</td>\n      <td>84.0</td>\n    </tr>\n    <tr>\n      <th>mean</th>\n      <td>0.705105</td>\n      <td>0.646034</td>\n      <td>0.643607</td>\n      <td>0.637286</td>\n      <td>0.644987</td>\n      <td>0.639547</td>\n      <td>0.627597</td>\n      <td>0.656853</td>\n      <td>0.655537</td>\n      <td>0.637170</td>\n      <td>...</td>\n      <td>0.526919</td>\n      <td>0.554309</td>\n      <td>0.553485</td>\n      <td>0.532720</td>\n      <td>0.562463</td>\n      <td>0.555915</td>\n      <td>0.558160</td>\n      <td>0.552841</td>\n      <td>367.5</td>\n      <td>2000.0</td>\n    </tr>\n    <tr>\n      <th>std</th>\n      <td>0.100153</td>\n      <td>0.080704</td>\n      <td>0.096546</td>\n      <td>0.089848</td>\n      <td>0.083670</td>\n      <td>0.118966</td>\n      <td>0.105078</td>\n      <td>0.087821</td>\n      <td>0.077099</td>\n      <td>0.134674</td>\n      <td>...</td>\n      <td>0.119527</td>\n      <td>0.127651</td>\n      <td>0.120348</td>\n      <td>0.133105</td>\n      <td>0.127846</td>\n      <td>0.133496</td>\n      <td>0.124976</td>\n      <td>0.137573</td>\n      <td>0.0</td>\n      <td>0.0</td>\n    </tr>\n    <tr>\n      <th>min</th>\n      <td>0.297124</td>\n      <td>0.360112</td>\n      <td>0.335903</td>\n      <td>0.263745</td>\n      <td>0.274716</td>\n      <td>-0.085987</td>\n      <td>0.273435</td>\n      <td>0.411791</td>\n      <td>0.393980</td>\n      <td>-0.308040</td>\n      <td>...</td>\n      <td>0.083485</td>\n      <td>0.251371</td>\n      <td>0.276954</td>\n      <td>0.186994</td>\n      <td>0.315512</td>\n      <td>0.233568</td>\n      <td>0.206821</td>\n      <td>0.133297</td>\n      <td>367.5</td>\n      <td>2000.0</td>\n    </tr>\n    <tr>\n      <th>25%</th>\n      <td>0.643972</td>\n      <td>0.610361</td>\n      <td>0.600994</td>\n      <td>0.602844</td>\n      <td>0.602669</td>\n      <td>0.594344</td>\n      <td>0.562949</td>\n      <td>0.625029</td>\n      <td>0.608220</td>\n      <td>0.608952</td>\n      <td>...</td>\n      <td>0.451278</td>\n      <td>0.469185</td>\n      <td>0.461060</td>\n      <td>0.438413</td>\n      <td>0.484961</td>\n      <td>0.480114</td>\n      <td>0.475005</td>\n      <td>0.476908</td>\n      <td>367.5</td>\n      <td>2000.0</td>\n    </tr>\n    <tr>\n      <th>50%</th>\n      <td>0.715718</td>\n      <td>0.655800</td>\n      <td>0.660470</td>\n      <td>0.646042</td>\n      <td>0.657632</td>\n      <td>0.657441</td>\n      <td>0.645353</td>\n      <td>0.659293</td>\n      <td>0.659730</td>\n      <td>0.641274</td>\n      <td>...</td>\n      <td>0.542268</td>\n      <td>0.548169</td>\n      <td>0.547114</td>\n      <td>0.525675</td>\n      <td>0.571061</td>\n      <td>0.564062</td>\n      <td>0.562868</td>\n      <td>0.556994</td>\n      <td>367.5</td>\n      <td>2000.0</td>\n    </tr>\n    <tr>\n      <th>75%</th>\n      <td>0.775847</td>\n      <td>0.699881</td>\n      <td>0.712271</td>\n      <td>0.701502</td>\n      <td>0.702195</td>\n      <td>0.716171</td>\n      <td>0.714607</td>\n      <td>0.707488</td>\n      <td>0.701898</td>\n      <td>0.707338</td>\n      <td>...</td>\n      <td>0.606704</td>\n      <td>0.656740</td>\n      <td>0.630929</td>\n      <td>0.624763</td>\n      <td>0.654824</td>\n      <td>0.649921</td>\n      <td>0.651132</td>\n      <td>0.648295</td>\n      <td>367.5</td>\n      <td>2000.0</td>\n    </tr>\n    <tr>\n      <th>max</th>\n      <td>0.913559</td>\n      <td>0.779044</td>\n      <td>0.818879</td>\n      <td>0.779574</td>\n      <td>0.790871</td>\n      <td>0.791680</td>\n      <td>0.801636</td>\n      <td>0.867989</td>\n      <td>0.830562</td>\n      <td>0.856806</td>\n      <td>...</td>\n      <td>0.730488</td>\n      <td>0.849596</td>\n      <td>0.818759</td>\n      <td>0.832410</td>\n      <td>0.870558</td>\n      <td>0.853293</td>\n      <td>0.880259</td>\n      <td>0.880190</td>\n      <td>367.5</td>\n      <td>2000.0</td>\n    </tr>\n  </tbody>\n</table>\n<p>8 rows \u00d7 2002 columns</p>\n</div>"
                    }, 
                    "execution_count": 14, 
                    "metadata": {}
                }
            ], 
            "execution_count": 14
        }, 
        {
            "source": "df_pd.shape\ndf.write.save('dataframe.parquet',format='parquet',mode='overwrite')", 
            "cell_type": "code", 
            "metadata": {}, 
            "outputs": [], 
            "execution_count": 15
        }, 
        {
            "source": "", 
            "cell_type": "code", 
            "metadata": {}, 
            "outputs": [], 
            "execution_count": null
        }
    ], 
    "metadata": {
        "kernelspec": {
            "display_name": "Python 3.5 with Spark 2.1", 
            "name": "python3-spark21", 
            "language": "python"
        }, 
        "language_info": {
            "mimetype": "text/x-python", 
            "nbconvert_exporter": "python", 
            "version": "3.5.4", 
            "name": "python", 
            "pygments_lexer": "ipython3", 
            "file_extension": ".py", 
            "codemirror_mode": {
                "version": 3, 
                "name": "ipython"
            }
        }
    }, 
    "nbformat": 4
}